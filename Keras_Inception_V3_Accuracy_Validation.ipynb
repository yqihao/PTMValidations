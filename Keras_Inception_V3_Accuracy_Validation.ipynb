{
  "nbformat": 4,
  "nbformat_minor": 0,
  "metadata": {
    "colab": {
      "name": "Keras_Inception_V3_Accuracy_Validation.ipynb",
      "provenance": [],
      "collapsed_sections": []
    },
    "kernelspec": {
      "name": "python3",
      "display_name": "Python 3"
    },
    "language_info": {
      "name": "python"
    }
  },
  "cells": [
    {
      "cell_type": "code",
      "source": [
        "!mkdir data/ \n",
        "!wget https://image-net.org/data/ILSVRC/2012/ILSVRC2012_img_val.tar -O data/ILSVRC2012_img_val.tar\n",
        "!tar -xf data/ILSVRC2012_img_val.tar -C data/\n",
        "!wget https://raw.githubusercontent.com/Evolving-AI-Lab/ppgn/master/misc/map_clsloc.txt\n",
        "!wget https://raw.githubusercontent.com/yqihao/PTMValidations/main/imagenet_classes.txt\n",
        "!wget https://raw.githubusercontent.com/yqihao/PTMValidations/main/ILSVRC2012_validation_ground_truth.txt"
      ],
      "metadata": {
        "colab": {
          "base_uri": "https://localhost:8080/"
        },
        "id": "Q4nikhjRZBgD",
        "outputId": "8082ae88-9b12-4d0e-e2d8-138d4de9792c"
      },
      "execution_count": 2,
      "outputs": [
        {
          "output_type": "stream",
          "name": "stdout",
          "text": [
            "--2022-04-30 15:58:18--  https://image-net.org/data/ILSVRC/2012/ILSVRC2012_img_val.tar\n",
            "Resolving image-net.org (image-net.org)... 171.64.68.16\n",
            "Connecting to image-net.org (image-net.org)|171.64.68.16|:443... connected.\n",
            "HTTP request sent, awaiting response... 200 OK\n",
            "Length: 6744924160 (6.3G) [application/x-tar]\n",
            "Saving to: ‘data/ILSVRC2012_img_val.tar’\n",
            "\n",
            "data/ILSVRC2012_img 100%[===================>]   6.28G  37.3MB/s    in 5m 7s   \n",
            "\n",
            "2022-04-30 16:03:25 (21.0 MB/s) - ‘data/ILSVRC2012_img_val.tar’ saved [6744924160/6744924160]\n",
            "\n",
            "--2022-04-30 16:03:57--  https://raw.githubusercontent.com/Evolving-AI-Lab/ppgn/master/misc/map_clsloc.txt\n",
            "Resolving raw.githubusercontent.com (raw.githubusercontent.com)... 185.199.111.133, 185.199.110.133, 185.199.108.133, ...\n",
            "Connecting to raw.githubusercontent.com (raw.githubusercontent.com)|185.199.111.133|:443... connected.\n",
            "HTTP request sent, awaiting response... 200 OK\n",
            "Length: 24366 (24K) [text/plain]\n",
            "Saving to: ‘map_clsloc.txt’\n",
            "\n",
            "map_clsloc.txt      100%[===================>]  23.79K  --.-KB/s    in 0s      \n",
            "\n",
            "2022-04-30 16:03:57 (99.5 MB/s) - ‘map_clsloc.txt’ saved [24366/24366]\n",
            "\n",
            "--2022-04-30 16:03:57--  https://raw.githubusercontent.com/yqihao/PTMValidations/main/imagenet_classes.txt\n",
            "Resolving raw.githubusercontent.com (raw.githubusercontent.com)... 185.199.109.133, 185.199.110.133, 185.199.111.133, ...\n",
            "Connecting to raw.githubusercontent.com (raw.githubusercontent.com)|185.199.109.133|:443... connected.\n",
            "HTTP request sent, awaiting response... 200 OK\n",
            "Length: 15362 (15K) [text/plain]\n",
            "Saving to: ‘imagenet_classes.txt’\n",
            "\n",
            "imagenet_classes.tx 100%[===================>]  15.00K  --.-KB/s    in 0.002s  \n",
            "\n",
            "2022-04-30 16:03:57 (7.96 MB/s) - ‘imagenet_classes.txt’ saved [15362/15362]\n",
            "\n",
            "--2022-04-30 16:03:57--  https://raw.githubusercontent.com/yqihao/PTMValidations/main/ILSVRC2012_validation_ground_truth.txt\n",
            "Resolving raw.githubusercontent.com (raw.githubusercontent.com)... 185.199.108.133, 185.199.109.133, 185.199.111.133, ...\n",
            "Connecting to raw.githubusercontent.com (raw.githubusercontent.com)|185.199.108.133|:443... connected.\n",
            "HTTP request sent, awaiting response... 200 OK\n",
            "Length: 194650 (190K) [text/plain]\n",
            "Saving to: ‘ILSVRC2012_validation_ground_truth.txt’\n",
            "\n",
            "ILSVRC2012_validati 100%[===================>] 190.09K  --.-KB/s    in 0.004s  \n",
            "\n",
            "2022-04-30 16:03:57 (46.0 MB/s) - ‘ILSVRC2012_validation_ground_truth.txt’ saved [194650/194650]\n",
            "\n"
          ]
        }
      ]
    },
    {
      "cell_type": "code",
      "source": [
        "import tensorflow as tf\n",
        "import numpy as np\n",
        "\n",
        "model = tf.keras.applications.InceptionV3(weights='imagenet')\n",
        "\n",
        "mapping_file = open('map_clsloc.txt',mode='r')\n",
        "\n",
        "validation_file = open('ILSVRC2012_validation_ground_truth.txt',mode='r')\n",
        "\n",
        "validation_list = validation_file.readlines()\n",
        "mapping_list_from = mapping_file.readlines()\n",
        "mapping_list_to = []\n",
        "for i in range(len(mapping_list_from)):\n",
        "  mapping_list_to.append(mapping_list_from[i].split(\" \")[1])\n",
        "  mapping_list_from[i] = mapping_list_from[i].split(\" \")[0]\n",
        "\n",
        "for i in range(len(validation_list)):\n",
        "  validation_list[i] = validation_list[i].split('\\n')[0]"
      ],
      "metadata": {
        "id": "GoMsNj3MYihK",
        "colab": {
          "base_uri": "https://localhost:8080/"
        },
        "outputId": "bfaa0f65-4f13-4d2a-8073-5f3f543e490a"
      },
      "execution_count": 3,
      "outputs": [
        {
          "output_type": "stream",
          "name": "stdout",
          "text": [
            "Downloading data from https://storage.googleapis.com/tensorflow/keras-applications/inception_v3/inception_v3_weights_tf_dim_ordering_tf_kernels.h5\n",
            "96116736/96112376 [==============================] - 1s 0us/step\n",
            "96124928/96112376 [==============================] - 1s 0us/step\n"
          ]
        }
      ]
    },
    {
      "cell_type": "code",
      "source": [
        "correct = 0\n",
        "top_5 = 0\n",
        "\n",
        "it = 50000\n",
        "\n",
        "for i in range(it):\n",
        "  img_path = f'data/ILSVRC2012_val_{(i+1):08d}.JPEG'\n",
        "  img = tf.keras.preprocessing.image.load_img(img_path, target_size=(299, 299))\n",
        "  x = tf.keras.preprocessing.image.img_to_array(img)\n",
        "  x = np.expand_dims(x, axis=0)\n",
        "  x = tf.keras.applications.inception_v3.preprocess_input(x)\n",
        "  preds = model.predict(x)\n",
        "\n",
        "  id = tf.keras.applications.imagenet_utils.decode_predictions(preds, top=1)[0][0][0]\n",
        "  index = mapping_list_from.index(id)\n",
        "\n",
        "  if mapping_list_to[index] == validation_list[i]:\n",
        "    correct = correct + 1\n",
        "    top_5 = top_5 + 1\n",
        "  else:\n",
        "    for ii in range(1,5):\n",
        "      id = tf.keras.applications.imagenet_utils.decode_predictions(preds, top=5)[0][ii][0]\n",
        "      index = mapping_list_from.index(id)\n",
        "      if mapping_list_to[index] == validation_list[i]:\n",
        "        top_5 = top_5 + 1\n",
        "        break\n",
        "\n",
        "  if i!=0 and i%500==0:\n",
        "    print(str(int(i/500))+'%, Top 1:' + str(correct/i) + ' Top 5:' + str(top_5/i))\n"
      ],
      "metadata": {
        "colab": {
          "base_uri": "https://localhost:8080/"
        },
        "id": "VG0N-BWVmpJH",
        "outputId": "eeaf21cc-c18c-48c4-abdd-ee6f3ca1f3e7"
      },
      "execution_count": 4,
      "outputs": [
        {
          "output_type": "stream",
          "name": "stdout",
          "text": [
            "Downloading data from https://storage.googleapis.com/download.tensorflow.org/data/imagenet_class_index.json\n",
            "40960/35363 [==================================] - 0s 0us/step\n",
            "49152/35363 [=========================================] - 0s 0us/step\n",
            "1%, Top 1:0.742 Top 5:0.934\n",
            "2%, Top 1:0.756 Top 5:0.927\n",
            "3%, Top 1:0.7726666666666666 Top 5:0.9253333333333333\n",
            "4%, Top 1:0.763 Top 5:0.9215\n",
            "5%, Top 1:0.7736 Top 5:0.928\n",
            "6%, Top 1:0.7703333333333333 Top 5:0.925\n",
            "7%, Top 1:0.7668571428571429 Top 5:0.9271428571428572\n",
            "8%, Top 1:0.7665 Top 5:0.928\n",
            "9%, Top 1:0.7677777777777778 Top 5:0.9275555555555556\n",
            "10%, Top 1:0.7682 Top 5:0.928\n",
            "11%, Top 1:0.7694545454545455 Top 5:0.9274545454545454\n",
            "12%, Top 1:0.7696666666666667 Top 5:0.9285\n",
            "13%, Top 1:0.7710769230769231 Top 5:0.9283076923076923\n",
            "14%, Top 1:0.7704285714285715 Top 5:0.9288571428571428\n",
            "15%, Top 1:0.7710666666666667 Top 5:0.9288\n",
            "16%, Top 1:0.77025 Top 5:0.92875\n",
            "17%, Top 1:0.7707058823529411 Top 5:0.9290588235294117\n",
            "18%, Top 1:0.7697777777777778 Top 5:0.9287777777777778\n",
            "19%, Top 1:0.7698947368421053 Top 5:0.9290526315789474\n",
            "20%, Top 1:0.7705 Top 5:0.9282\n",
            "21%, Top 1:0.7699047619047619 Top 5:0.929047619047619\n",
            "22%, Top 1:0.769090909090909 Top 5:0.9282727272727272\n",
            "23%, Top 1:0.7690434782608696 Top 5:0.9282608695652174\n",
            "24%, Top 1:0.7679166666666667 Top 5:0.92775\n",
            "25%, Top 1:0.76904 Top 5:0.92848\n",
            "26%, Top 1:0.7683076923076924 Top 5:0.9283076923076923\n",
            "27%, Top 1:0.7670370370370371 Top 5:0.928\n",
            "28%, Top 1:0.7660714285714286 Top 5:0.928\n",
            "29%, Top 1:0.7655172413793103 Top 5:0.9278620689655173\n",
            "30%, Top 1:0.7650666666666667 Top 5:0.9278\n",
            "31%, Top 1:0.7649032258064516 Top 5:0.9278064516129032\n",
            "32%, Top 1:0.7648125 Top 5:0.927875\n",
            "33%, Top 1:0.7636363636363637 Top 5:0.9276363636363636\n",
            "34%, Top 1:0.7631764705882353 Top 5:0.9278823529411765\n",
            "35%, Top 1:0.7632571428571429 Top 5:0.9275428571428571\n",
            "36%, Top 1:0.7633333333333333 Top 5:0.9277777777777778\n",
            "37%, Top 1:0.7627567567567568 Top 5:0.9281621621621622\n",
            "38%, Top 1:0.7626315789473684 Top 5:0.9285789473684211\n",
            "39%, Top 1:0.7624615384615384 Top 5:0.9285641025641026\n",
            "40%, Top 1:0.76195 Top 5:0.9282\n",
            "41%, Top 1:0.7620975609756098 Top 5:0.9283414634146342\n",
            "42%, Top 1:0.7628095238095238 Top 5:0.928952380952381\n",
            "43%, Top 1:0.7627906976744186 Top 5:0.9287441860465117\n",
            "44%, Top 1:0.7633181818181818 Top 5:0.929\n",
            "45%, Top 1:0.7635555555555555 Top 5:0.9293333333333333\n",
            "46%, Top 1:0.7629565217391304 Top 5:0.9293478260869565\n",
            "47%, Top 1:0.7630212765957447 Top 5:0.9292765957446808\n",
            "48%, Top 1:0.76225 Top 5:0.9292916666666666\n",
            "49%, Top 1:0.7623673469387755 Top 5:0.9291428571428572\n",
            "50%, Top 1:0.76236 Top 5:0.92944\n",
            "51%, Top 1:0.7621176470588236 Top 5:0.9293725490196079\n",
            "52%, Top 1:0.7623461538461539 Top 5:0.9295\n",
            "53%, Top 1:0.7623018867924528 Top 5:0.9297358490566038\n",
            "54%, Top 1:0.7618518518518519 Top 5:0.9295185185185185\n",
            "55%, Top 1:0.7610181818181818 Top 5:0.9291272727272727\n",
            "56%, Top 1:0.7610714285714286 Top 5:0.9293214285714285\n",
            "57%, Top 1:0.7615438596491229 Top 5:0.9294385964912281\n",
            "58%, Top 1:0.7613793103448275 Top 5:0.9298275862068965\n",
            "59%, Top 1:0.7611525423728813 Top 5:0.93\n",
            "60%, Top 1:0.7615333333333333 Top 5:0.9302666666666667\n",
            "61%, Top 1:0.7612786885245901 Top 5:0.9304262295081968\n",
            "62%, Top 1:0.7613548387096775 Top 5:0.9303548387096774\n",
            "63%, Top 1:0.7615238095238095 Top 5:0.9303174603174603\n",
            "64%, Top 1:0.76165625 Top 5:0.93021875\n",
            "65%, Top 1:0.7616615384615385 Top 5:0.9303692307692307\n",
            "66%, Top 1:0.7616363636363637 Top 5:0.930030303030303\n",
            "67%, Top 1:0.7613432835820896 Top 5:0.9300597014925374\n",
            "68%, Top 1:0.7617352941176471 Top 5:0.930264705882353\n",
            "69%, Top 1:0.7614492753623189 Top 5:0.9300289855072463\n",
            "70%, Top 1:0.7616285714285714 Top 5:0.9299428571428572\n",
            "71%, Top 1:0.7615774647887323 Top 5:0.930169014084507\n",
            "72%, Top 1:0.7615833333333333 Top 5:0.9301944444444444\n",
            "73%, Top 1:0.761972602739726 Top 5:0.9303835616438356\n",
            "74%, Top 1:0.7619459459459459 Top 5:0.9303783783783783\n",
            "75%, Top 1:0.7624533333333333 Top 5:0.9304533333333334\n",
            "76%, Top 1:0.7625263157894737 Top 5:0.9305\n",
            "77%, Top 1:0.7627532467532467 Top 5:0.9306233766233766\n",
            "78%, Top 1:0.762974358974359 Top 5:0.9307948717948717\n",
            "79%, Top 1:0.7630886075949367 Top 5:0.9307594936708861\n",
            "80%, Top 1:0.76305 Top 5:0.930675\n",
            "81%, Top 1:0.7632098765432099 Top 5:0.9306172839506173\n",
            "82%, Top 1:0.7629024390243903 Top 5:0.9303902439024391\n",
            "83%, Top 1:0.7623855421686747 Top 5:0.9303614457831325\n",
            "84%, Top 1:0.7622142857142857 Top 5:0.9302380952380952\n",
            "85%, Top 1:0.7622823529411765 Top 5:0.9302117647058824\n",
            "86%, Top 1:0.7619302325581395 Top 5:0.9303255813953488\n",
            "87%, Top 1:0.7616551724137931 Top 5:0.9302988505747126\n",
            "88%, Top 1:0.7617045454545455 Top 5:0.9302954545454546\n",
            "89%, Top 1:0.7618202247191012 Top 5:0.9300224719101123\n",
            "90%, Top 1:0.7620666666666667 Top 5:0.9302\n",
            "91%, Top 1:0.7622417582417582 Top 5:0.9301318681318681\n",
            "92%, Top 1:0.7626739130434783 Top 5:0.9305\n",
            "93%, Top 1:0.762494623655914 Top 5:0.9304516129032258\n",
            "94%, Top 1:0.762468085106383 Top 5:0.9305106382978724\n",
            "95%, Top 1:0.7626736842105263 Top 5:0.9305894736842105\n",
            "96%, Top 1:0.7627083333333333 Top 5:0.9305625\n",
            "97%, Top 1:0.7627628865979381 Top 5:0.9304742268041237\n",
            "98%, Top 1:0.7627551020408163 Top 5:0.9304081632653062\n",
            "99%, Top 1:0.7625858585858586 Top 5:0.9303838383838384\n"
          ]
        }
      ]
    },
    {
      "cell_type": "code",
      "source": [
        "accuracy = correct/it*100\n",
        "top_5_accuracy = top_5/it*100\n",
        "print('Top 1 Accuracy:'+str(accuracy)+'%')\n",
        "print('Top 5 Accuracy:'+str(top_5_accuracy)+'%')"
      ],
      "metadata": {
        "colab": {
          "base_uri": "https://localhost:8080/"
        },
        "id": "iipubysrtI0L",
        "outputId": "ebf5098b-bd4d-49df-ff65-c6df1796f38b"
      },
      "execution_count": 5,
      "outputs": [
        {
          "output_type": "stream",
          "name": "stdout",
          "text": [
            "Top 1 Accuracy:76.276%\n",
            "Top 5 Accuracy:93.03200000000001%\n"
          ]
        }
      ]
    }
  ]
}
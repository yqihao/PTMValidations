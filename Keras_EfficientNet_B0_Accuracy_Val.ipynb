{
  "nbformat": 4,
  "nbformat_minor": 0,
  "metadata": {
    "colab": {
      "name": "Keras_ENB0AV.ipynb",
      "provenance": [],
      "collapsed_sections": []
    },
    "kernelspec": {
      "name": "python3",
      "display_name": "Python 3"
    },
    "language_info": {
      "name": "python"
    }
  },
  "cells": [
    {
      "cell_type": "code",
      "source": [
        "!mkdir data/ \n",
        "!wget https://image-net.org/data/ILSVRC/2012/ILSVRC2012_img_val.tar -O data/ILSVRC2012_img_val.tar\n",
        "!tar -xf data/ILSVRC2012_img_val.tar -C data/\n",
        "!wget https://raw.githubusercontent.com/Evolving-AI-Lab/ppgn/master/misc/map_clsloc.txt"
      ],
      "metadata": {
        "colab": {
          "base_uri": "https://localhost:8080/"
        },
        "id": "Q4nikhjRZBgD",
        "outputId": "6b4eeb03-38a3-4c44-b9e4-2b46eff9f20d"
      },
      "execution_count": 5,
      "outputs": [
        {
          "output_type": "stream",
          "name": "stdout",
          "text": [
            "mkdir: cannot create directory ‘data/’: File exists\n",
            "--2022-04-30 02:33:46--  https://image-net.org/data/ILSVRC/2012/ILSVRC2012_img_val.tar\n",
            "Resolving image-net.org (image-net.org)... 171.64.68.16\n",
            "Connecting to image-net.org (image-net.org)|171.64.68.16|:443... connected.\n",
            "HTTP request sent, awaiting response... 200 OK\n",
            "Length: 6744924160 (6.3G) [application/x-tar]\n",
            "Saving to: ‘data/ILSVRC2012_img_val.tar’\n",
            "\n",
            "data/ILSVRC2012_img 100%[===================>]   6.28G  19.5MB/s    in 7m 47s  \n",
            "\n",
            "2022-04-30 02:41:34 (13.8 MB/s) - ‘data/ILSVRC2012_img_val.tar’ saved [6744924160/6744924160]\n",
            "\n",
            "--2022-04-30 02:42:26--  https://raw.githubusercontent.com/Evolving-AI-Lab/ppgn/master/misc/map_clsloc.txt\n",
            "Resolving raw.githubusercontent.com (raw.githubusercontent.com)... 185.199.110.133, 185.199.108.133, 185.199.111.133, ...\n",
            "Connecting to raw.githubusercontent.com (raw.githubusercontent.com)|185.199.110.133|:443... connected.\n",
            "HTTP request sent, awaiting response... 200 OK\n",
            "Length: 24366 (24K) [text/plain]\n",
            "Saving to: ‘map_clsloc.txt.3’\n",
            "\n",
            "map_clsloc.txt.3    100%[===================>]  23.79K  --.-KB/s    in 0s      \n",
            "\n",
            "2022-04-30 02:42:26 (112 MB/s) - ‘map_clsloc.txt.3’ saved [24366/24366]\n",
            "\n"
          ]
        }
      ]
    },
    {
      "cell_type": "code",
      "source": [
        "import tensorflow as tf\n",
        "import numpy as np\n",
        "\n",
        "model = tf.keras.applications.EfficientNetB0(weights='imagenet')\n",
        "\n",
        "mapping_file = open('map_clsloc.txt',mode='r')\n",
        "\n",
        "validation_file = open('ILSVRC2012_validation_ground_truth.txt',mode='r')\n",
        "\n",
        "validation_list = validation_file.readlines()\n",
        "mapping_list_from = mapping_file.readlines()\n",
        "mapping_list_to = []\n",
        "for i in range(len(mapping_list_from)):\n",
        "  mapping_list_to.append(mapping_list_from[i].split(\" \")[1])\n",
        "  mapping_list_from[i] = mapping_list_from[i].split(\" \")[0]\n",
        "\n",
        "for i in range(len(validation_list)):\n",
        "  validation_list[i] = validation_list[i].split('\\n')[0]"
      ],
      "metadata": {
        "id": "GoMsNj3MYihK"
      },
      "execution_count": 7,
      "outputs": []
    },
    {
      "cell_type": "code",
      "source": [
        "correct = 0\n",
        "top_5 = 0\n",
        "\n",
        "it = 50000\n",
        "\n",
        "for i in range(it):\n",
        "  img_path = f'data/ILSVRC2012_val_{(i+1):08d}.JPEG'\n",
        "  img = tf.keras.preprocessing.image.load_img(img_path, target_size=(224, 224))\n",
        "  x = tf.keras.preprocessing.image.img_to_array(img)\n",
        "  x = np.expand_dims(x, axis=0)\n",
        "  x = tf.keras.applications.efficientnet.preprocess_input(x)\n",
        "  preds = model.predict(x)\n",
        "\n",
        "  id = tf.keras.applications.imagenet_utils.decode_predictions(preds, top=1)[0][0][0]\n",
        "  index = mapping_list_from.index(id)\n",
        "\n",
        "  if mapping_list_to[index] == validation_list[i]:\n",
        "    correct = correct + 1\n",
        "    top_5 = top_5 + 1\n",
        "  else:\n",
        "    for ii in range(1,5):\n",
        "      id = tf.keras.applications.imagenet_utils.decode_predictions(preds, top=5)[0][ii][0]\n",
        "      index = mapping_list_from.index(id)\n",
        "      if mapping_list_to[index] == validation_list[i]:\n",
        "        top_5 = top_5 + 1\n",
        "        break\n",
        "\n",
        "  if i!=0 and i%500==0:\n",
        "    print(str(int(i/500))+'%, Top 1:' + str(correct/i) + ' Top 5:' + str(top_5/i))\n"
      ],
      "metadata": {
        "colab": {
          "base_uri": "https://localhost:8080/"
        },
        "id": "VG0N-BWVmpJH",
        "outputId": "e6c39b04-c9ec-4ad2-da30-348eea94d80a"
      },
      "execution_count": 26,
      "outputs": [
        {
          "output_type": "stream",
          "name": "stdout",
          "text": [
            "1%, Top 1:0.718 Top 5:0.928\n",
            "2%, Top 1:0.72 Top 5:0.925\n",
            "3%, Top 1:0.7346666666666667 Top 5:0.924\n",
            "4%, Top 1:0.7305 Top 5:0.9195\n",
            "5%, Top 1:0.7348 Top 5:0.9196\n",
            "6%, Top 1:0.7323333333333333 Top 5:0.9176666666666666\n",
            "7%, Top 1:0.7302857142857143 Top 5:0.918\n",
            "8%, Top 1:0.73025 Top 5:0.916\n",
            "9%, Top 1:0.7313333333333333 Top 5:0.9148888888888889\n",
            "10%, Top 1:0.731 Top 5:0.9136\n",
            "11%, Top 1:0.7316363636363636 Top 5:0.9125454545454545\n",
            "12%, Top 1:0.7305 Top 5:0.9141666666666667\n",
            "13%, Top 1:0.7324615384615385 Top 5:0.9138461538461539\n",
            "14%, Top 1:0.7331428571428571 Top 5:0.9144285714285715\n",
            "15%, Top 1:0.7344 Top 5:0.9142666666666667\n",
            "16%, Top 1:0.734375 Top 5:0.914625\n",
            "17%, Top 1:0.7351764705882353 Top 5:0.914\n",
            "18%, Top 1:0.7334444444444445 Top 5:0.9128888888888889\n",
            "19%, Top 1:0.7343157894736843 Top 5:0.9126315789473685\n",
            "20%, Top 1:0.7332 Top 5:0.9123\n",
            "21%, Top 1:0.7338095238095238 Top 5:0.9131428571428571\n",
            "22%, Top 1:0.732909090909091 Top 5:0.9125454545454545\n",
            "23%, Top 1:0.7322608695652174 Top 5:0.9121739130434783\n",
            "24%, Top 1:0.7326666666666667 Top 5:0.91175\n",
            "25%, Top 1:0.73384 Top 5:0.91256\n",
            "26%, Top 1:0.7333846153846154 Top 5:0.9116923076923077\n",
            "27%, Top 1:0.7328148148148148 Top 5:0.9116296296296297\n",
            "28%, Top 1:0.7323571428571428 Top 5:0.9116428571428571\n",
            "29%, Top 1:0.7313793103448276 Top 5:0.9113793103448276\n",
            "30%, Top 1:0.7319333333333333 Top 5:0.9115333333333333\n",
            "31%, Top 1:0.7315483870967742 Top 5:0.9112903225806451\n",
            "32%, Top 1:0.731 Top 5:0.910875\n",
            "33%, Top 1:0.7306060606060606 Top 5:0.9107878787878788\n",
            "34%, Top 1:0.729764705882353 Top 5:0.9111176470588235\n",
            "35%, Top 1:0.7297142857142858 Top 5:0.9112571428571429\n",
            "36%, Top 1:0.7295 Top 5:0.9116111111111111\n",
            "37%, Top 1:0.7297297297297297 Top 5:0.9117837837837838\n",
            "38%, Top 1:0.7294736842105263 Top 5:0.9121578947368421\n",
            "39%, Top 1:0.7295897435897436 Top 5:0.9118974358974359\n",
            "40%, Top 1:0.7298 Top 5:0.9116\n",
            "41%, Top 1:0.7293170731707317 Top 5:0.9117073170731708\n",
            "42%, Top 1:0.7299523809523809 Top 5:0.9117619047619048\n",
            "43%, Top 1:0.7304186046511628 Top 5:0.9116744186046511\n",
            "44%, Top 1:0.7308181818181818 Top 5:0.9119545454545455\n",
            "45%, Top 1:0.7312 Top 5:0.9122666666666667\n",
            "46%, Top 1:0.7305652173913043 Top 5:0.9122608695652173\n",
            "47%, Top 1:0.730468085106383 Top 5:0.9118723404255319\n",
            "48%, Top 1:0.7292916666666667 Top 5:0.9116666666666666\n",
            "49%, Top 1:0.7294693877551021 Top 5:0.9116326530612245\n",
            "50%, Top 1:0.72956 Top 5:0.91188\n",
            "51%, Top 1:0.7298823529411764 Top 5:0.9120392156862746\n",
            "52%, Top 1:0.7298076923076923 Top 5:0.9118846153846154\n",
            "53%, Top 1:0.729811320754717 Top 5:0.9121132075471698\n",
            "54%, Top 1:0.7296666666666667 Top 5:0.911962962962963\n",
            "55%, Top 1:0.7292727272727273 Top 5:0.912\n",
            "56%, Top 1:0.7291071428571428 Top 5:0.9122142857142858\n",
            "57%, Top 1:0.7291228070175438 Top 5:0.9124210526315789\n",
            "58%, Top 1:0.729 Top 5:0.9123793103448276\n",
            "59%, Top 1:0.7291864406779661 Top 5:0.912542372881356\n",
            "60%, Top 1:0.7295666666666667 Top 5:0.9128\n",
            "61%, Top 1:0.7298360655737705 Top 5:0.9128196721311476\n",
            "62%, Top 1:0.7295806451612903 Top 5:0.9125806451612903\n",
            "63%, Top 1:0.7293968253968254 Top 5:0.9123174603174603\n",
            "64%, Top 1:0.72990625 Top 5:0.91221875\n",
            "65%, Top 1:0.7300307692307693 Top 5:0.9121846153846154\n",
            "66%, Top 1:0.7295151515151516 Top 5:0.9118787878787878\n",
            "67%, Top 1:0.7293134328358208 Top 5:0.9118507462686567\n",
            "68%, Top 1:0.7292941176470589 Top 5:0.9120294117647059\n",
            "69%, Top 1:0.7292173913043478 Top 5:0.9119130434782609\n",
            "70%, Top 1:0.7293142857142857 Top 5:0.9119142857142857\n",
            "71%, Top 1:0.7295492957746479 Top 5:0.9121408450704226\n",
            "72%, Top 1:0.7296388888888888 Top 5:0.9119166666666667\n",
            "73%, Top 1:0.73 Top 5:0.911972602739726\n",
            "74%, Top 1:0.7298108108108108 Top 5:0.9121081081081082\n",
            "75%, Top 1:0.7301066666666667 Top 5:0.9123733333333334\n",
            "76%, Top 1:0.7303157894736843 Top 5:0.9124210526315789\n",
            "77%, Top 1:0.7304155844155844 Top 5:0.9125454545454545\n",
            "78%, Top 1:0.729974358974359 Top 5:0.9126153846153846\n",
            "79%, Top 1:0.7299746835443038 Top 5:0.9125822784810127\n",
            "80%, Top 1:0.7299 Top 5:0.912675\n",
            "81%, Top 1:0.7298765432098765 Top 5:0.9128148148148149\n",
            "82%, Top 1:0.7296341463414634 Top 5:0.9127560975609756\n",
            "83%, Top 1:0.7295903614457832 Top 5:0.9126987951807229\n",
            "84%, Top 1:0.7294285714285714 Top 5:0.9125952380952381\n",
            "85%, Top 1:0.7294352941176471 Top 5:0.9126823529411765\n",
            "86%, Top 1:0.7293255813953489 Top 5:0.9127906976744186\n",
            "87%, Top 1:0.7292643678160919 Top 5:0.912896551724138\n",
            "88%, Top 1:0.72925 Top 5:0.9131136363636364\n",
            "89%, Top 1:0.7294606741573034 Top 5:0.9130786516853933\n",
            "90%, Top 1:0.7294 Top 5:0.9132444444444444\n",
            "91%, Top 1:0.7296263736263736 Top 5:0.9133186813186813\n",
            "92%, Top 1:0.7299347826086956 Top 5:0.9136304347826087\n",
            "93%, Top 1:0.7297849462365591 Top 5:0.9135483870967742\n",
            "94%, Top 1:0.7298297872340426 Top 5:0.9135744680851063\n",
            "95%, Top 1:0.7299578947368421 Top 5:0.9136631578947368\n",
            "96%, Top 1:0.7301458333333334 Top 5:0.9137708333333333\n",
            "97%, Top 1:0.7303505154639175 Top 5:0.9138144329896907\n",
            "98%, Top 1:0.7306122448979592 Top 5:0.9136938775510204\n",
            "99%, Top 1:0.7304242424242424 Top 5:0.9134545454545454\n"
          ]
        }
      ]
    },
    {
      "cell_type": "code",
      "source": [
        "accuracy = correct/it*100\n",
        "top_5_accuracy = top_5/it*100\n",
        "print('Top 1 Accuracy:'+str(accuracy)+'%')\n",
        "print('Top 5 Accuracy:'+str(top_5_accuracy)+'%')"
      ],
      "metadata": {
        "colab": {
          "base_uri": "https://localhost:8080/"
        },
        "id": "iipubysrtI0L",
        "outputId": "404dc7a3-f107-4c2b-c50b-a539253fa069"
      },
      "execution_count": 27,
      "outputs": [
        {
          "output_type": "stream",
          "name": "stdout",
          "text": [
            "Top 1 Accuracy:73.038%\n",
            "Top 5 Accuracy:91.354%\n"
          ]
        }
      ]
    }
  ]
}
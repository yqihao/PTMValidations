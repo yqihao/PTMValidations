{
  "nbformat": 4,
  "nbformat_minor": 0,
  "metadata": {
    "colab": {
      "name": "Keras_MobileNet_V2_Accuracy_Validation.ipynb",
      "provenance": [],
      "collapsed_sections": []
    },
    "kernelspec": {
      "name": "python3",
      "display_name": "Python 3"
    },
    "language_info": {
      "name": "python"
    }
  },
  "cells": [
    {
      "cell_type": "code",
      "source": [
        "!mkdir data/ \n",
        "!wget https://image-net.org/data/ILSVRC/2012/ILSVRC2012_img_val.tar -O data/ILSVRC2012_img_val.tar\n",
        "!tar -xf data/ILSVRC2012_img_val.tar -C data/\n",
        "!wget https://raw.githubusercontent.com/Evolving-AI-Lab/ppgn/master/misc/map_clsloc.txt"
      ],
      "metadata": {
        "colab": {
          "base_uri": "https://localhost:8080/"
        },
        "id": "Q4nikhjRZBgD",
        "outputId": "6b4eeb03-38a3-4c44-b9e4-2b46eff9f20d"
      },
      "execution_count": 5,
      "outputs": [
        {
          "output_type": "stream",
          "name": "stdout",
          "text": [
            "mkdir: cannot create directory ‘data/’: File exists\n",
            "--2022-04-30 02:33:46--  https://image-net.org/data/ILSVRC/2012/ILSVRC2012_img_val.tar\n",
            "Resolving image-net.org (image-net.org)... 171.64.68.16\n",
            "Connecting to image-net.org (image-net.org)|171.64.68.16|:443... connected.\n",
            "HTTP request sent, awaiting response... 200 OK\n",
            "Length: 6744924160 (6.3G) [application/x-tar]\n",
            "Saving to: ‘data/ILSVRC2012_img_val.tar’\n",
            "\n",
            "data/ILSVRC2012_img 100%[===================>]   6.28G  19.5MB/s    in 7m 47s  \n",
            "\n",
            "2022-04-30 02:41:34 (13.8 MB/s) - ‘data/ILSVRC2012_img_val.tar’ saved [6744924160/6744924160]\n",
            "\n",
            "--2022-04-30 02:42:26--  https://raw.githubusercontent.com/Evolving-AI-Lab/ppgn/master/misc/map_clsloc.txt\n",
            "Resolving raw.githubusercontent.com (raw.githubusercontent.com)... 185.199.110.133, 185.199.108.133, 185.199.111.133, ...\n",
            "Connecting to raw.githubusercontent.com (raw.githubusercontent.com)|185.199.110.133|:443... connected.\n",
            "HTTP request sent, awaiting response... 200 OK\n",
            "Length: 24366 (24K) [text/plain]\n",
            "Saving to: ‘map_clsloc.txt.3’\n",
            "\n",
            "map_clsloc.txt.3    100%[===================>]  23.79K  --.-KB/s    in 0s      \n",
            "\n",
            "2022-04-30 02:42:26 (112 MB/s) - ‘map_clsloc.txt.3’ saved [24366/24366]\n",
            "\n"
          ]
        }
      ]
    },
    {
      "cell_type": "code",
      "source": [
        "import tensorflow as tf\n",
        "import numpy as np\n",
        "\n",
        "model = tf.keras.applications.MobileNetV2(weights='imagenet')\n",
        "\n",
        "mapping_file = open('map_clsloc.txt',mode='r')\n",
        "\n",
        "validation_file = open('ILSVRC2012_validation_ground_truth.txt',mode='r')\n",
        "\n",
        "validation_list = validation_file.readlines()\n",
        "mapping_list_from = mapping_file.readlines()\n",
        "mapping_list_to = []\n",
        "for i in range(len(mapping_list_from)):\n",
        "  mapping_list_to.append(mapping_list_from[i].split(\" \")[1])\n",
        "  mapping_list_from[i] = mapping_list_from[i].split(\" \")[0]\n",
        "\n",
        "for i in range(len(validation_list)):\n",
        "  validation_list[i] = validation_list[i].split('\\n')[0]"
      ],
      "metadata": {
        "id": "GoMsNj3MYihK"
      },
      "execution_count": 29,
      "outputs": []
    },
    {
      "cell_type": "code",
      "source": [
        "correct = 0\n",
        "top_5 = 0\n",
        "\n",
        "it = 50000\n",
        "\n",
        "for i in range(it):\n",
        "  img_path = f'data/ILSVRC2012_val_{(i+1):08d}.JPEG'\n",
        "  img = tf.keras.preprocessing.image.load_img(img_path, target_size=(224, 224))\n",
        "  x = tf.keras.preprocessing.image.img_to_array(img)\n",
        "  x = np.expand_dims(x, axis=0)\n",
        "  x = tf.keras.applications.mobilenet_v2.preprocess_input(x)\n",
        "  preds = model.predict(x)\n",
        "\n",
        "  id = tf.keras.applications.imagenet_utils.decode_predictions(preds, top=1)[0][0][0]\n",
        "  index = mapping_list_from.index(id)\n",
        "\n",
        "  if mapping_list_to[index] == validation_list[i]:\n",
        "    correct = correct + 1\n",
        "    top_5 = top_5 + 1\n",
        "  else:\n",
        "    for ii in range(1,5):\n",
        "      id = tf.keras.applications.imagenet_utils.decode_predictions(preds, top=5)[0][ii][0]\n",
        "      index = mapping_list_from.index(id)\n",
        "      if mapping_list_to[index] == validation_list[i]:\n",
        "        top_5 = top_5 + 1\n",
        "        break\n",
        "\n",
        "  if i!=0 and i%500==0:\n",
        "    print(str(int(i/500))+'%, Top 1:' + str(correct/i) + ' Top 5:' + str(top_5/i))\n"
      ],
      "metadata": {
        "colab": {
          "base_uri": "https://localhost:8080/"
        },
        "id": "VG0N-BWVmpJH",
        "outputId": "6145a548-b3d2-4edd-f13f-24988315a1dd"
      },
      "execution_count": 30,
      "outputs": [
        {
          "output_type": "stream",
          "name": "stdout",
          "text": [
            "1%, Top 1:0.684 Top 5:0.9\n",
            "2%, Top 1:0.672 Top 5:0.888\n",
            "3%, Top 1:0.682 Top 5:0.8866666666666667\n",
            "4%, Top 1:0.677 Top 5:0.8835\n",
            "5%, Top 1:0.6824 Top 5:0.884\n",
            "6%, Top 1:0.6886666666666666 Top 5:0.8833333333333333\n",
            "7%, Top 1:0.6865714285714286 Top 5:0.8862857142857142\n",
            "8%, Top 1:0.68575 Top 5:0.88375\n",
            "9%, Top 1:0.688 Top 5:0.882\n",
            "10%, Top 1:0.6898 Top 5:0.882\n",
            "11%, Top 1:0.6894545454545454 Top 5:0.8812727272727273\n",
            "12%, Top 1:0.6891666666666667 Top 5:0.8828333333333334\n",
            "13%, Top 1:0.6887692307692308 Top 5:0.8829230769230769\n",
            "14%, Top 1:0.6891428571428572 Top 5:0.8835714285714286\n",
            "15%, Top 1:0.6890666666666667 Top 5:0.8841333333333333\n",
            "16%, Top 1:0.6895 Top 5:0.88475\n",
            "17%, Top 1:0.6896470588235294 Top 5:0.8847058823529412\n",
            "18%, Top 1:0.6886666666666666 Top 5:0.884\n",
            "19%, Top 1:0.6893684210526316 Top 5:0.8841052631578947\n",
            "20%, Top 1:0.6886 Top 5:0.8835\n",
            "21%, Top 1:0.6884761904761905 Top 5:0.8845714285714286\n",
            "22%, Top 1:0.6885454545454546 Top 5:0.884\n",
            "23%, Top 1:0.6893913043478261 Top 5:0.8832173913043478\n",
            "24%, Top 1:0.68825 Top 5:0.88225\n",
            "25%, Top 1:0.68904 Top 5:0.88352\n",
            "26%, Top 1:0.6887692307692308 Top 5:0.8824615384615384\n",
            "27%, Top 1:0.6881481481481482 Top 5:0.8826666666666667\n",
            "28%, Top 1:0.6881428571428572 Top 5:0.8825714285714286\n",
            "29%, Top 1:0.688 Top 5:0.8828275862068965\n",
            "30%, Top 1:0.6880666666666667 Top 5:0.8826666666666667\n",
            "31%, Top 1:0.6876774193548387 Top 5:0.8830967741935484\n",
            "32%, Top 1:0.687 Top 5:0.8829375\n",
            "33%, Top 1:0.6856969696969697 Top 5:0.8828484848484849\n",
            "34%, Top 1:0.6857058823529412 Top 5:0.8831764705882353\n",
            "35%, Top 1:0.6855428571428571 Top 5:0.8826857142857143\n",
            "36%, Top 1:0.6855 Top 5:0.8828333333333334\n",
            "37%, Top 1:0.6848108108108109 Top 5:0.8824864864864865\n",
            "38%, Top 1:0.6842631578947368 Top 5:0.8826315789473684\n",
            "39%, Top 1:0.6844615384615385 Top 5:0.8829743589743589\n",
            "40%, Top 1:0.68375 Top 5:0.88245\n",
            "41%, Top 1:0.6836585365853659 Top 5:0.8826829268292683\n",
            "42%, Top 1:0.6838571428571428 Top 5:0.8827619047619047\n",
            "43%, Top 1:0.6839069767441861 Top 5:0.8830697674418605\n",
            "44%, Top 1:0.6842727272727273 Top 5:0.8834545454545455\n",
            "45%, Top 1:0.6841777777777778 Top 5:0.8835111111111111\n",
            "46%, Top 1:0.6834347826086956 Top 5:0.8831304347826087\n",
            "47%, Top 1:0.6834893617021277 Top 5:0.8830638297872341\n",
            "48%, Top 1:0.6825 Top 5:0.88275\n",
            "49%, Top 1:0.6823673469387755 Top 5:0.8823673469387755\n",
            "50%, Top 1:0.68204 Top 5:0.88296\n",
            "51%, Top 1:0.6823137254901961 Top 5:0.8832549019607843\n",
            "52%, Top 1:0.682 Top 5:0.8829615384615385\n",
            "53%, Top 1:0.682188679245283 Top 5:0.8834339622641509\n",
            "54%, Top 1:0.6819259259259259 Top 5:0.8828888888888888\n",
            "55%, Top 1:0.6812727272727273 Top 5:0.8824\n",
            "56%, Top 1:0.68125 Top 5:0.88225\n",
            "57%, Top 1:0.6820350877192982 Top 5:0.8827368421052632\n",
            "58%, Top 1:0.6820344827586207 Top 5:0.8826896551724138\n",
            "59%, Top 1:0.6817966101694916 Top 5:0.8825762711864407\n",
            "60%, Top 1:0.6818 Top 5:0.8826666666666667\n",
            "61%, Top 1:0.681672131147541 Top 5:0.8825573770491804\n",
            "62%, Top 1:0.6816129032258065 Top 5:0.8825806451612903\n",
            "63%, Top 1:0.6812380952380952 Top 5:0.8823174603174603\n",
            "64%, Top 1:0.681 Top 5:0.88240625\n",
            "65%, Top 1:0.6812 Top 5:0.882523076923077\n",
            "66%, Top 1:0.6806969696969697 Top 5:0.882030303030303\n",
            "67%, Top 1:0.6804776119402985 Top 5:0.8821194029850746\n",
            "68%, Top 1:0.6803529411764706 Top 5:0.8820294117647058\n",
            "69%, Top 1:0.68 Top 5:0.8819130434782608\n",
            "70%, Top 1:0.6801428571428572 Top 5:0.8820857142857143\n",
            "71%, Top 1:0.6802535211267605 Top 5:0.8823098591549295\n",
            "72%, Top 1:0.6802222222222222 Top 5:0.8823611111111112\n",
            "73%, Top 1:0.6804931506849315 Top 5:0.8823013698630137\n",
            "74%, Top 1:0.6801081081081081 Top 5:0.8827027027027027\n",
            "75%, Top 1:0.6806933333333334 Top 5:0.8829333333333333\n",
            "76%, Top 1:0.6805 Top 5:0.8828684210526315\n",
            "77%, Top 1:0.6804415584415584 Top 5:0.882987012987013\n",
            "78%, Top 1:0.681025641025641 Top 5:0.8832051282051282\n",
            "79%, Top 1:0.6810886075949367 Top 5:0.8831392405063291\n",
            "80%, Top 1:0.68095 Top 5:0.8831\n",
            "81%, Top 1:0.681037037037037 Top 5:0.8831604938271604\n",
            "82%, Top 1:0.6811463414634147 Top 5:0.8832439024390244\n",
            "83%, Top 1:0.680843373493976 Top 5:0.8832530120481927\n",
            "84%, Top 1:0.6806904761904762 Top 5:0.8831666666666667\n",
            "85%, Top 1:0.6808 Top 5:0.8832705882352941\n",
            "86%, Top 1:0.6807441860465117 Top 5:0.8835116279069768\n",
            "87%, Top 1:0.6808275862068965 Top 5:0.883448275862069\n",
            "88%, Top 1:0.6806136363636364 Top 5:0.8835681818181819\n",
            "89%, Top 1:0.6810337078651686 Top 5:0.8835730337078652\n",
            "90%, Top 1:0.6810666666666667 Top 5:0.8835555555555555\n",
            "91%, Top 1:0.680989010989011 Top 5:0.8836263736263736\n",
            "92%, Top 1:0.6810869565217391 Top 5:0.8837391304347826\n",
            "93%, Top 1:0.6809032258064516 Top 5:0.8835913978494624\n",
            "94%, Top 1:0.6809787234042554 Top 5:0.8837446808510638\n",
            "95%, Top 1:0.6807157894736842 Top 5:0.8837684210526315\n",
            "96%, Top 1:0.6807708333333333 Top 5:0.8838958333333333\n",
            "97%, Top 1:0.6807010309278351 Top 5:0.8837938144329897\n",
            "98%, Top 1:0.6808571428571428 Top 5:0.8838979591836734\n",
            "99%, Top 1:0.6807070707070707 Top 5:0.8838787878787879\n"
          ]
        }
      ]
    },
    {
      "cell_type": "code",
      "source": [
        "accuracy = correct/it*100\n",
        "top_5_accuracy = top_5/it*100\n",
        "print('Top 1 Accuracy:'+str(accuracy)+'%')\n",
        "print('Top 5 Accuracy:'+str(top_5_accuracy)+'%')"
      ],
      "metadata": {
        "colab": {
          "base_uri": "https://localhost:8080/"
        },
        "id": "iipubysrtI0L",
        "outputId": "be7008e4-a30e-45ae-cdb7-d990a12dc3c7"
      },
      "execution_count": 31,
      "outputs": [
        {
          "output_type": "stream",
          "name": "stdout",
          "text": [
            "Top 1 Accuracy:68.052%\n",
            "Top 5 Accuracy:88.396%\n"
          ]
        }
      ]
    }
  ]
}
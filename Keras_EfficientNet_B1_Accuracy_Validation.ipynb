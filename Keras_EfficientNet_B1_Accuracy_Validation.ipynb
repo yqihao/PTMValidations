{
  "nbformat": 4,
  "nbformat_minor": 0,
  "metadata": {
    "colab": {
      "name": "Keras_EfficientNet_B1_Accuracy_Validation.ipynb",
      "provenance": [],
      "collapsed_sections": []
    },
    "kernelspec": {
      "name": "python3",
      "display_name": "Python 3"
    },
    "language_info": {
      "name": "python"
    }
  },
  "cells": [
    {
      "cell_type": "code",
      "source": [
        "!mkdir data/ \n",
        "!wget https://image-net.org/data/ILSVRC/2012/ILSVRC2012_img_val.tar -O data/ILSVRC2012_img_val.tar\n",
        "!tar -xf data/ILSVRC2012_img_val.tar -C data/\n",
        "!wget https://raw.githubusercontent.com/Evolving-AI-Lab/ppgn/master/misc/map_clsloc.txt\n",
        "!wget https://raw.githubusercontent.com/yqihao/PTMValidations/main/imagenet_classes.txt\n",
        "!wget https://raw.githubusercontent.com/yqihao/PTMValidations/main/ILSVRC2012_validation_ground_truth.txt"
      ],
      "metadata": {
        "colab": {
          "base_uri": "https://localhost:8080/"
        },
        "id": "Q4nikhjRZBgD",
        "outputId": "3718031d-699e-4095-cc93-0d18235356ff"
      },
      "execution_count": 2,
      "outputs": [
        {
          "output_type": "stream",
          "name": "stdout",
          "text": [
            "--2022-05-01 04:19:23--  https://image-net.org/data/ILSVRC/2012/ILSVRC2012_img_val.tar\n",
            "Resolving image-net.org (image-net.org)... 171.64.68.16\n",
            "Connecting to image-net.org (image-net.org)|171.64.68.16|:443... connected.\n",
            "HTTP request sent, awaiting response... 200 OK\n",
            "Length: 6744924160 (6.3G) [application/x-tar]\n",
            "Saving to: ‘data/ILSVRC2012_img_val.tar’\n",
            "\n",
            "data/ILSVRC2012_img 100%[===================>]   6.28G  75.6MB/s    in 86s     \n",
            "\n",
            "2022-05-01 04:20:50 (74.5 MB/s) - ‘data/ILSVRC2012_img_val.tar’ saved [6744924160/6744924160]\n",
            "\n",
            "--2022-05-01 04:21:21--  https://raw.githubusercontent.com/Evolving-AI-Lab/ppgn/master/misc/map_clsloc.txt\n",
            "Resolving raw.githubusercontent.com (raw.githubusercontent.com)... 185.199.111.133, 185.199.110.133, 185.199.109.133, ...\n",
            "Connecting to raw.githubusercontent.com (raw.githubusercontent.com)|185.199.111.133|:443... connected.\n",
            "HTTP request sent, awaiting response... 200 OK\n",
            "Length: 24366 (24K) [text/plain]\n",
            "Saving to: ‘map_clsloc.txt’\n",
            "\n",
            "map_clsloc.txt      100%[===================>]  23.79K  --.-KB/s    in 0s      \n",
            "\n",
            "2022-05-01 04:21:22 (85.3 MB/s) - ‘map_clsloc.txt’ saved [24366/24366]\n",
            "\n",
            "--2022-05-01 04:21:22--  https://raw.githubusercontent.com/yqihao/PTMValidations/main/imagenet_classes.txt\n",
            "Resolving raw.githubusercontent.com (raw.githubusercontent.com)... 185.199.108.133, 185.199.109.133, 185.199.110.133, ...\n",
            "Connecting to raw.githubusercontent.com (raw.githubusercontent.com)|185.199.108.133|:443... connected.\n",
            "HTTP request sent, awaiting response... 200 OK\n",
            "Length: 15362 (15K) [text/plain]\n",
            "Saving to: ‘imagenet_classes.txt’\n",
            "\n",
            "imagenet_classes.tx 100%[===================>]  15.00K  --.-KB/s    in 0s      \n",
            "\n",
            "2022-05-01 04:21:22 (62.9 MB/s) - ‘imagenet_classes.txt’ saved [15362/15362]\n",
            "\n",
            "--2022-05-01 04:21:22--  https://raw.githubusercontent.com/yqihao/PTMValidations/main/ILSVRC2012_validation_ground_truth.txt\n",
            "Resolving raw.githubusercontent.com (raw.githubusercontent.com)... 185.199.111.133, 185.199.109.133, 185.199.108.133, ...\n",
            "Connecting to raw.githubusercontent.com (raw.githubusercontent.com)|185.199.111.133|:443... connected.\n",
            "HTTP request sent, awaiting response... 200 OK\n",
            "Length: 194650 (190K) [text/plain]\n",
            "Saving to: ‘ILSVRC2012_validation_ground_truth.txt’\n",
            "\n",
            "ILSVRC2012_validati 100%[===================>] 190.09K  --.-KB/s    in 0.01s   \n",
            "\n",
            "2022-05-01 04:21:22 (12.5 MB/s) - ‘ILSVRC2012_validation_ground_truth.txt’ saved [194650/194650]\n",
            "\n"
          ]
        }
      ]
    },
    {
      "cell_type": "code",
      "source": [
        "import tensorflow as tf\n",
        "import numpy as np\n",
        "\n",
        "model = tf.keras.applications.EfficientNetB1(weights='imagenet')\n",
        "\n",
        "mapping_file = open('map_clsloc.txt',mode='r')\n",
        "\n",
        "validation_file = open('ILSVRC2012_validation_ground_truth.txt',mode='r')\n",
        "\n",
        "validation_list = validation_file.readlines()\n",
        "mapping_list_from = mapping_file.readlines()\n",
        "mapping_list_to = []\n",
        "for i in range(len(mapping_list_from)):\n",
        "  mapping_list_to.append(mapping_list_from[i].split(\" \")[1])\n",
        "  mapping_list_from[i] = mapping_list_from[i].split(\" \")[0]\n",
        "\n",
        "for i in range(len(validation_list)):\n",
        "  validation_list[i] = validation_list[i].split('\\n')[0]"
      ],
      "metadata": {
        "id": "GoMsNj3MYihK",
        "colab": {
          "base_uri": "https://localhost:8080/"
        },
        "outputId": "e31d53b4-90c7-4b2a-e5ef-c324a11e8c9f"
      },
      "execution_count": 10,
      "outputs": [
        {
          "output_type": "stream",
          "name": "stdout",
          "text": [
            "Downloading data from https://storage.googleapis.com/keras-applications/efficientnetb1.h5\n",
            "32153600/32148312 [==============================] - 0s 0us/step\n",
            "32161792/32148312 [==============================] - 0s 0us/step\n"
          ]
        }
      ]
    },
    {
      "cell_type": "code",
      "source": [
        "correct = 0\n",
        "top_5 = 0\n",
        "\n",
        "it = 50000\n",
        "\n",
        "for i in range(it):\n",
        "  img_path = f'data/ILSVRC2012_val_{(i+1):08d}.JPEG'\n",
        "  img = tf.keras.preprocessing.image.load_img(img_path, target_size=(240, 240))\n",
        "  x = tf.keras.preprocessing.image.img_to_array(img)\n",
        "  x = np.expand_dims(x, axis=0)\n",
        "  x = tf.keras.applications.efficientnet.preprocess_input(x)\n",
        "  preds = model.predict(x)\n",
        "\n",
        "  id = tf.keras.applications.imagenet_utils.decode_predictions(preds, top=1)[0][0][0]\n",
        "  index = mapping_list_from.index(id)\n",
        "\n",
        "  if mapping_list_to[index] == validation_list[i]:\n",
        "    correct = correct + 1\n",
        "    top_5 = top_5 + 1\n",
        "  else:\n",
        "    for ii in range(1,5):\n",
        "      id = tf.keras.applications.imagenet_utils.decode_predictions(preds, top=5)[0][ii][0]\n",
        "      index = mapping_list_from.index(id)\n",
        "      if mapping_list_to[index] == validation_list[i]:\n",
        "        top_5 = top_5 + 1\n",
        "        break\n",
        "\n",
        "  if i!=0 and i%500==0:\n",
        "    print(str(int(i/500))+'%, Top 1:' + str(correct/i) + ' Top 5:' + str(top_5/i))"
      ],
      "metadata": {
        "colab": {
          "base_uri": "https://localhost:8080/"
        },
        "id": "VG0N-BWVmpJH",
        "outputId": "2fa9090f-bf5f-4d44-ee92-3869d90bb415"
      },
      "execution_count": 12,
      "outputs": [
        {
          "output_type": "stream",
          "name": "stdout",
          "text": [
            "1%, Top 1:0.752 Top 5:0.932\n",
            "2%, Top 1:0.755 Top 5:0.932\n",
            "3%, Top 1:0.76 Top 5:0.9313333333333333\n",
            "4%, Top 1:0.757 Top 5:0.9285\n",
            "5%, Top 1:0.7568 Top 5:0.9316\n",
            "6%, Top 1:0.7543333333333333 Top 5:0.9293333333333333\n",
            "7%, Top 1:0.7525714285714286 Top 5:0.9302857142857143\n",
            "8%, Top 1:0.75175 Top 5:0.92975\n",
            "9%, Top 1:0.7546666666666667 Top 5:0.9271111111111111\n",
            "10%, Top 1:0.7554 Top 5:0.9268\n",
            "11%, Top 1:0.7549090909090909 Top 5:0.9267272727272727\n",
            "12%, Top 1:0.7545 Top 5:0.9278333333333333\n",
            "13%, Top 1:0.7567692307692307 Top 5:0.9278461538461539\n",
            "14%, Top 1:0.7567142857142857 Top 5:0.9277142857142857\n",
            "15%, Top 1:0.7568 Top 5:0.9273333333333333\n",
            "16%, Top 1:0.75625 Top 5:0.927625\n",
            "17%, Top 1:0.7556470588235294 Top 5:0.9271764705882353\n",
            "18%, Top 1:0.7543333333333333 Top 5:0.9266666666666666\n",
            "19%, Top 1:0.7545263157894737 Top 5:0.9263157894736842\n",
            "20%, Top 1:0.7546 Top 5:0.9262\n",
            "21%, Top 1:0.7542857142857143 Top 5:0.9264761904761905\n",
            "22%, Top 1:0.7531818181818182 Top 5:0.9254545454545454\n",
            "23%, Top 1:0.7524347826086957 Top 5:0.9252173913043479\n",
            "24%, Top 1:0.7525833333333334 Top 5:0.9249166666666667\n",
            "25%, Top 1:0.75384 Top 5:0.92584\n",
            "26%, Top 1:0.7540769230769231 Top 5:0.9254615384615384\n",
            "27%, Top 1:0.7531111111111111 Top 5:0.9254814814814815\n",
            "28%, Top 1:0.7534285714285714 Top 5:0.9254285714285714\n",
            "29%, Top 1:0.7523448275862069 Top 5:0.9251724137931034\n",
            "30%, Top 1:0.7530666666666667 Top 5:0.9256666666666666\n",
            "31%, Top 1:0.7532258064516129 Top 5:0.9252258064516129\n",
            "32%, Top 1:0.7530625 Top 5:0.925625\n",
            "33%, Top 1:0.7531515151515151 Top 5:0.9254545454545454\n",
            "34%, Top 1:0.7523529411764706 Top 5:0.925235294117647\n",
            "35%, Top 1:0.7532571428571428 Top 5:0.9253142857142858\n",
            "36%, Top 1:0.7526666666666667 Top 5:0.9251666666666667\n",
            "37%, Top 1:0.7525405405405405 Top 5:0.9254054054054054\n",
            "38%, Top 1:0.7532105263157894 Top 5:0.9257368421052632\n",
            "39%, Top 1:0.7535897435897436 Top 5:0.9253846153846154\n",
            "40%, Top 1:0.75315 Top 5:0.92495\n",
            "41%, Top 1:0.7530731707317073 Top 5:0.9251219512195122\n",
            "42%, Top 1:0.7533333333333333 Top 5:0.9258571428571428\n",
            "43%, Top 1:0.7536744186046511 Top 5:0.926\n",
            "44%, Top 1:0.7537272727272727 Top 5:0.9260454545454545\n",
            "45%, Top 1:0.7537333333333334 Top 5:0.9264\n",
            "46%, Top 1:0.7535217391304347 Top 5:0.926304347826087\n",
            "47%, Top 1:0.7531489361702127 Top 5:0.9257872340425531\n",
            "48%, Top 1:0.7524583333333333 Top 5:0.9255416666666667\n",
            "49%, Top 1:0.7526122448979592 Top 5:0.9255918367346939\n",
            "50%, Top 1:0.75316 Top 5:0.92568\n",
            "51%, Top 1:0.7534117647058823 Top 5:0.9258039215686275\n",
            "52%, Top 1:0.7534615384615385 Top 5:0.926\n",
            "53%, Top 1:0.7533584905660378 Top 5:0.9261509433962264\n",
            "54%, Top 1:0.752962962962963 Top 5:0.925962962962963\n",
            "55%, Top 1:0.7526545454545455 Top 5:0.9257818181818182\n",
            "56%, Top 1:0.7524285714285714 Top 5:0.9258571428571428\n",
            "57%, Top 1:0.7530877192982456 Top 5:0.9259649122807018\n",
            "58%, Top 1:0.7529310344827587 Top 5:0.9260689655172414\n",
            "59%, Top 1:0.7528135593220339 Top 5:0.9261016949152543\n",
            "60%, Top 1:0.7529666666666667 Top 5:0.9262333333333334\n",
            "61%, Top 1:0.7531803278688525 Top 5:0.9261967213114755\n",
            "62%, Top 1:0.7529032258064516 Top 5:0.9260967741935484\n",
            "63%, Top 1:0.7527301587301587 Top 5:0.9258730158730158\n",
            "64%, Top 1:0.75325 Top 5:0.92575\n",
            "65%, Top 1:0.7531384615384615 Top 5:0.9257230769230769\n",
            "66%, Top 1:0.7525151515151515 Top 5:0.9254545454545454\n",
            "67%, Top 1:0.7528656716417911 Top 5:0.9256716417910448\n",
            "68%, Top 1:0.7530588235294118 Top 5:0.9255588235294118\n",
            "69%, Top 1:0.753072463768116 Top 5:0.9253913043478261\n",
            "70%, Top 1:0.7528571428571429 Top 5:0.9252857142857143\n",
            "71%, Top 1:0.7534929577464788 Top 5:0.9256338028169014\n",
            "72%, Top 1:0.7536666666666667 Top 5:0.9257222222222222\n",
            "73%, Top 1:0.7537808219178083 Top 5:0.9257260273972603\n",
            "74%, Top 1:0.7537027027027027 Top 5:0.9258378378378378\n",
            "75%, Top 1:0.7541066666666667 Top 5:0.9259466666666667\n",
            "76%, Top 1:0.7543947368421052 Top 5:0.9258157894736843\n",
            "77%, Top 1:0.7545454545454545 Top 5:0.9257402597402598\n",
            "78%, Top 1:0.7545128205128205 Top 5:0.9257179487179488\n",
            "79%, Top 1:0.7544810126582279 Top 5:0.925620253164557\n",
            "80%, Top 1:0.754425 Top 5:0.925575\n",
            "81%, Top 1:0.7542222222222222 Top 5:0.9256296296296296\n",
            "82%, Top 1:0.7542682926829268 Top 5:0.9255121951219513\n",
            "83%, Top 1:0.754 Top 5:0.9253012048192771\n",
            "84%, Top 1:0.754 Top 5:0.9251666666666667\n",
            "85%, Top 1:0.7541411764705882 Top 5:0.925364705882353\n",
            "86%, Top 1:0.7537906976744186 Top 5:0.9255116279069767\n",
            "87%, Top 1:0.7535862068965518 Top 5:0.9254942528735632\n",
            "88%, Top 1:0.7532727272727273 Top 5:0.9255227272727272\n",
            "89%, Top 1:0.7535955056179775 Top 5:0.925438202247191\n",
            "90%, Top 1:0.7535555555555555 Top 5:0.9255777777777778\n",
            "91%, Top 1:0.7537142857142857 Top 5:0.9256263736263737\n",
            "92%, Top 1:0.7541086956521739 Top 5:0.9258478260869565\n",
            "93%, Top 1:0.7542150537634409 Top 5:0.9258279569892474\n",
            "94%, Top 1:0.7541702127659574 Top 5:0.9257872340425531\n",
            "95%, Top 1:0.7544842105263158 Top 5:0.9257684210526316\n",
            "96%, Top 1:0.7545833333333334 Top 5:0.925875\n",
            "97%, Top 1:0.7548247422680412 Top 5:0.9258969072164949\n",
            "98%, Top 1:0.754938775510204 Top 5:0.9259591836734694\n",
            "99%, Top 1:0.7547272727272727 Top 5:0.9258787878787879\n"
          ]
        }
      ]
    },
    {
      "cell_type": "code",
      "source": [
        "accuracy = correct/it*100\n",
        "top_5_accuracy = top_5/it*100\n",
        "print('Top 1 Accuracy:'+str(accuracy)+'%')\n",
        "print('Top 5 Accuracy:'+str(top_5_accuracy)+'%')"
      ],
      "metadata": {
        "colab": {
          "base_uri": "https://localhost:8080/"
        },
        "id": "iipubysrtI0L",
        "outputId": "67fa8408-8595-49bd-9d55-b8d4daaba4bd"
      },
      "execution_count": 13,
      "outputs": [
        {
          "output_type": "stream",
          "name": "stdout",
          "text": [
            "Top 1 Accuracy:75.46199999999999%\n",
            "Top 5 Accuracy:92.596%\n"
          ]
        }
      ]
    }
  ]
}
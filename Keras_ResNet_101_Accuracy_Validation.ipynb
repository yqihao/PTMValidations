{
  "nbformat": 4,
  "nbformat_minor": 0,
  "metadata": {
    "colab": {
      "name": "Keras_ResNet_101_Accuracy_Validation.ipynb",
      "provenance": [],
      "collapsed_sections": []
    },
    "kernelspec": {
      "name": "python3",
      "display_name": "Python 3"
    },
    "language_info": {
      "name": "python"
    }
  },
  "cells": [
    {
      "cell_type": "code",
      "source": [
        "!mkdir data/ \n",
        "!wget https://image-net.org/data/ILSVRC/2012/ILSVRC2012_img_val.tar -O data/ILSVRC2012_img_val.tar\n",
        "!tar -xf data/ILSVRC2012_img_val.tar -C data/\n",
        "!wget https://raw.githubusercontent.com/Evolving-AI-Lab/ppgn/master/misc/map_clsloc.txt\n",
        "!wget https://raw.githubusercontent.com/yqihao/PTMValidations/main/imagenet_classes.txt\n",
        "!wget https://raw.githubusercontent.com/yqihao/PTMValidations/main/ILSVRC2012_validation_ground_truth.txt"
      ],
      "metadata": {
        "colab": {
          "base_uri": "https://localhost:8080/"
        },
        "id": "Q4nikhjRZBgD",
        "outputId": "0f460fe1-9407-4e49-b5d7-18aeabb5f75d"
      },
      "execution_count": 1,
      "outputs": [
        {
          "output_type": "stream",
          "name": "stdout",
          "text": [
            "--2022-05-01 17:15:33--  https://image-net.org/data/ILSVRC/2012/ILSVRC2012_img_val.tar\n",
            "Resolving image-net.org (image-net.org)... 171.64.68.16\n",
            "Connecting to image-net.org (image-net.org)|171.64.68.16|:443... connected.\n",
            "HTTP request sent, awaiting response... 200 OK\n",
            "Length: 6744924160 (6.3G) [application/x-tar]\n",
            "Saving to: ‘data/ILSVRC2012_img_val.tar’\n",
            "\n",
            "data/ILSVRC2012_img 100%[===================>]   6.28G  23.5MB/s    in 3m 23s  \n",
            "\n",
            "2022-05-01 17:18:56 (31.7 MB/s) - ‘data/ILSVRC2012_img_val.tar’ saved [6744924160/6744924160]\n",
            "\n",
            "--2022-05-01 17:19:27--  https://raw.githubusercontent.com/Evolving-AI-Lab/ppgn/master/misc/map_clsloc.txt\n",
            "Resolving raw.githubusercontent.com (raw.githubusercontent.com)... 185.199.108.133, 185.199.109.133, 185.199.110.133, ...\n",
            "Connecting to raw.githubusercontent.com (raw.githubusercontent.com)|185.199.108.133|:443... connected.\n",
            "HTTP request sent, awaiting response... 200 OK\n",
            "Length: 24366 (24K) [text/plain]\n",
            "Saving to: ‘map_clsloc.txt’\n",
            "\n",
            "map_clsloc.txt      100%[===================>]  23.79K  --.-KB/s    in 0.002s  \n",
            "\n",
            "2022-05-01 17:19:27 (13.8 MB/s) - ‘map_clsloc.txt’ saved [24366/24366]\n",
            "\n",
            "--2022-05-01 17:19:27--  https://raw.githubusercontent.com/yqihao/PTMValidations/main/imagenet_classes.txt\n",
            "Resolving raw.githubusercontent.com (raw.githubusercontent.com)... 185.199.110.133, 185.199.111.133, 185.199.108.133, ...\n",
            "Connecting to raw.githubusercontent.com (raw.githubusercontent.com)|185.199.110.133|:443... connected.\n",
            "HTTP request sent, awaiting response... 200 OK\n",
            "Length: 15362 (15K) [text/plain]\n",
            "Saving to: ‘imagenet_classes.txt’\n",
            "\n",
            "imagenet_classes.tx 100%[===================>]  15.00K  --.-KB/s    in 0s      \n",
            "\n",
            "2022-05-01 17:19:27 (44.7 MB/s) - ‘imagenet_classes.txt’ saved [15362/15362]\n",
            "\n",
            "--2022-05-01 17:19:27--  https://raw.githubusercontent.com/yqihao/PTMValidations/main/ILSVRC2012_validation_ground_truth.txt\n",
            "Resolving raw.githubusercontent.com (raw.githubusercontent.com)... 185.199.108.133, 185.199.109.133, 185.199.110.133, ...\n",
            "Connecting to raw.githubusercontent.com (raw.githubusercontent.com)|185.199.108.133|:443... connected.\n",
            "HTTP request sent, awaiting response... 200 OK\n",
            "Length: 194650 (190K) [text/plain]\n",
            "Saving to: ‘ILSVRC2012_validation_ground_truth.txt’\n",
            "\n",
            "ILSVRC2012_validati 100%[===================>] 190.09K  --.-KB/s    in 0.02s   \n",
            "\n",
            "2022-05-01 17:19:27 (7.79 MB/s) - ‘ILSVRC2012_validation_ground_truth.txt’ saved [194650/194650]\n",
            "\n"
          ]
        }
      ]
    },
    {
      "cell_type": "code",
      "source": [
        "import tensorflow as tf\n",
        "import numpy as np\n",
        "\n",
        "model = tf.keras.applications.ResNet101(weights='imagenet')\n",
        "\n",
        "mapping_file = open('map_clsloc.txt',mode='r')\n",
        "\n",
        "validation_file = open('ILSVRC2012_validation_ground_truth.txt',mode='r')\n",
        "\n",
        "validation_list = validation_file.readlines()\n",
        "mapping_list_from = mapping_file.readlines()\n",
        "mapping_list_to = []\n",
        "for i in range(len(mapping_list_from)):\n",
        "  mapping_list_to.append(mapping_list_from[i].split(\" \")[1])\n",
        "  mapping_list_from[i] = mapping_list_from[i].split(\" \")[0]\n",
        "\n",
        "for i in range(len(validation_list)):\n",
        "  validation_list[i] = validation_list[i].split('\\n')[0]"
      ],
      "metadata": {
        "id": "GoMsNj3MYihK",
        "colab": {
          "base_uri": "https://localhost:8080/"
        },
        "outputId": "237d09aa-7800-42d1-a988-9c3dab9688e6"
      },
      "execution_count": 2,
      "outputs": [
        {
          "output_type": "stream",
          "name": "stdout",
          "text": [
            "Downloading data from https://storage.googleapis.com/tensorflow/keras-applications/resnet/resnet101_weights_tf_dim_ordering_tf_kernels.h5\n",
            "179650560/179648224 [==============================] - 1s 0us/step\n",
            "179658752/179648224 [==============================] - 1s 0us/step\n"
          ]
        }
      ]
    },
    {
      "cell_type": "code",
      "source": [
        "correct = 0\n",
        "top_5 = 0\n",
        "\n",
        "it = 50000\n",
        "\n",
        "for i in range(it):\n",
        "  img_path = f'data/ILSVRC2012_val_{(i+1):08d}.JPEG'\n",
        "  img = tf.keras.preprocessing.image.load_img(img_path, target_size=(224, 224))\n",
        "  x = tf.keras.preprocessing.image.img_to_array(img)\n",
        "  x = np.expand_dims(x, axis=0)\n",
        "  x = tf.keras.applications.resnet.preprocess_input(x)\n",
        "  preds = model.predict(x)\n",
        "\n",
        "  id = tf.keras.applications.imagenet_utils.decode_predictions(preds, top=1)[0][0][0]\n",
        "  index = mapping_list_from.index(id)\n",
        "\n",
        "  if mapping_list_to[index] == validation_list[i]:\n",
        "    correct = correct + 1\n",
        "    top_5 = top_5 + 1\n",
        "  else:\n",
        "    for ii in range(1,5):\n",
        "      id = tf.keras.applications.imagenet_utils.decode_predictions(preds, top=5)[0][ii][0]\n",
        "      index = mapping_list_from.index(id)\n",
        "      if mapping_list_to[index] == validation_list[i]:\n",
        "        top_5 = top_5 + 1\n",
        "        break\n",
        "\n",
        "  if i!=0 and i%500==0:\n",
        "    print(str(int(i/500))+'%, Top 1:' + str(correct/i) + ' Top 5:' + str(top_5/i))"
      ],
      "metadata": {
        "colab": {
          "base_uri": "https://localhost:8080/"
        },
        "id": "VG0N-BWVmpJH",
        "outputId": "05dd2f2f-cc23-4b19-b6cb-769f81ff6b0d"
      },
      "execution_count": 3,
      "outputs": [
        {
          "output_type": "stream",
          "name": "stdout",
          "text": [
            "Downloading data from https://storage.googleapis.com/download.tensorflow.org/data/imagenet_class_index.json\n",
            "40960/35363 [==================================] - 0s 0us/step\n",
            "49152/35363 [=========================================] - 0s 0us/step\n",
            "1%, Top 1:0.704 Top 5:0.898\n",
            "2%, Top 1:0.697 Top 5:0.896\n",
            "3%, Top 1:0.7086666666666667 Top 5:0.892\n",
            "4%, Top 1:0.7005 Top 5:0.8885\n",
            "5%, Top 1:0.7064 Top 5:0.894\n",
            "6%, Top 1:0.703 Top 5:0.8923333333333333\n",
            "7%, Top 1:0.6982857142857143 Top 5:0.896\n",
            "8%, Top 1:0.7 Top 5:0.896\n",
            "9%, Top 1:0.6997777777777778 Top 5:0.896\n",
            "10%, Top 1:0.7012 Top 5:0.8952\n",
            "11%, Top 1:0.7007272727272728 Top 5:0.8947272727272727\n",
            "12%, Top 1:0.7016666666666667 Top 5:0.8943333333333333\n",
            "13%, Top 1:0.7024615384615385 Top 5:0.8950769230769231\n",
            "14%, Top 1:0.7024285714285714 Top 5:0.8944285714285715\n",
            "15%, Top 1:0.7030666666666666 Top 5:0.8942666666666667\n",
            "16%, Top 1:0.70375 Top 5:0.89475\n",
            "17%, Top 1:0.7036470588235294 Top 5:0.8937647058823529\n",
            "18%, Top 1:0.7024444444444444 Top 5:0.8936666666666667\n",
            "19%, Top 1:0.702 Top 5:0.8933684210526316\n",
            "20%, Top 1:0.7014 Top 5:0.8928\n",
            "21%, Top 1:0.7019047619047619 Top 5:0.8929523809523809\n",
            "22%, Top 1:0.7015454545454546 Top 5:0.8927272727272727\n",
            "23%, Top 1:0.7019130434782609 Top 5:0.8934782608695652\n",
            "24%, Top 1:0.7015833333333333 Top 5:0.8928333333333334\n",
            "25%, Top 1:0.70272 Top 5:0.89384\n",
            "26%, Top 1:0.7024615384615385 Top 5:0.8930769230769231\n",
            "27%, Top 1:0.7016296296296296 Top 5:0.8935555555555555\n",
            "28%, Top 1:0.7015 Top 5:0.8932142857142857\n",
            "29%, Top 1:0.7000689655172414 Top 5:0.8928275862068965\n",
            "30%, Top 1:0.7002666666666667 Top 5:0.8933333333333333\n",
            "31%, Top 1:0.700516129032258 Top 5:0.8938064516129032\n",
            "32%, Top 1:0.6996875 Top 5:0.8938125\n",
            "33%, Top 1:0.6983636363636364 Top 5:0.8937575757575758\n",
            "34%, Top 1:0.6984705882352941 Top 5:0.8937647058823529\n",
            "35%, Top 1:0.6985142857142858 Top 5:0.8937142857142857\n",
            "36%, Top 1:0.6980555555555555 Top 5:0.8938888888888888\n",
            "37%, Top 1:0.6981081081081081 Top 5:0.8939459459459459\n",
            "38%, Top 1:0.6977368421052632 Top 5:0.894\n",
            "39%, Top 1:0.6981538461538461 Top 5:0.8935897435897436\n",
            "40%, Top 1:0.69815 Top 5:0.89295\n",
            "41%, Top 1:0.6980487804878048 Top 5:0.8928292682926829\n",
            "42%, Top 1:0.6983809523809524 Top 5:0.8931904761904762\n",
            "43%, Top 1:0.6983720930232559 Top 5:0.8935813953488372\n",
            "44%, Top 1:0.6991363636363637 Top 5:0.8936818181818181\n",
            "45%, Top 1:0.6991111111111111 Top 5:0.8938222222222222\n",
            "46%, Top 1:0.6986521739130435 Top 5:0.8937391304347826\n",
            "47%, Top 1:0.6988510638297872 Top 5:0.8934042553191489\n",
            "48%, Top 1:0.6983333333333334 Top 5:0.8931666666666667\n",
            "49%, Top 1:0.6980816326530612 Top 5:0.8930204081632653\n",
            "50%, Top 1:0.69884 Top 5:0.89332\n",
            "51%, Top 1:0.6992941176470588 Top 5:0.8938039215686274\n",
            "52%, Top 1:0.6995769230769231 Top 5:0.8941153846153846\n",
            "53%, Top 1:0.699622641509434 Top 5:0.8944150943396226\n",
            "54%, Top 1:0.6998518518518518 Top 5:0.8942962962962963\n",
            "55%, Top 1:0.6997454545454546 Top 5:0.8941454545454546\n",
            "56%, Top 1:0.6995357142857143 Top 5:0.8940714285714285\n",
            "57%, Top 1:0.700140350877193 Top 5:0.8943508771929825\n",
            "58%, Top 1:0.700551724137931 Top 5:0.8944827586206896\n",
            "59%, Top 1:0.7005084745762712 Top 5:0.8943389830508475\n",
            "60%, Top 1:0.7004666666666667 Top 5:0.8941666666666667\n",
            "61%, Top 1:0.7006229508196722 Top 5:0.8940655737704918\n",
            "62%, Top 1:0.7001935483870968 Top 5:0.8939032258064517\n",
            "63%, Top 1:0.699936507936508 Top 5:0.8938095238095238\n",
            "64%, Top 1:0.700375 Top 5:0.89384375\n",
            "65%, Top 1:0.700123076923077 Top 5:0.8938461538461538\n",
            "66%, Top 1:0.6996363636363636 Top 5:0.8935454545454545\n",
            "67%, Top 1:0.6992835820895522 Top 5:0.8937910447761194\n",
            "68%, Top 1:0.6995294117647058 Top 5:0.8937941176470589\n",
            "69%, Top 1:0.6996231884057971 Top 5:0.8935942028985507\n",
            "70%, Top 1:0.6996571428571429 Top 5:0.8937428571428572\n",
            "71%, Top 1:0.6996056338028169 Top 5:0.8937464788732394\n",
            "72%, Top 1:0.69975 Top 5:0.8938611111111111\n",
            "73%, Top 1:0.6998630136986301 Top 5:0.8941369863013698\n",
            "74%, Top 1:0.6998648648648649 Top 5:0.8942432432432432\n",
            "75%, Top 1:0.7 Top 5:0.89448\n",
            "76%, Top 1:0.7002368421052632 Top 5:0.8942105263157895\n",
            "77%, Top 1:0.7000779220779221 Top 5:0.8942597402597403\n",
            "78%, Top 1:0.7000512820512821 Top 5:0.8945897435897436\n",
            "79%, Top 1:0.6997721518987342 Top 5:0.8947848101265823\n",
            "80%, Top 1:0.6998 Top 5:0.894825\n",
            "81%, Top 1:0.7002222222222222 Top 5:0.8949876543209877\n",
            "82%, Top 1:0.6999024390243902 Top 5:0.8949024390243903\n",
            "83%, Top 1:0.6999518072289157 Top 5:0.8948192771084338\n",
            "84%, Top 1:0.6995238095238095 Top 5:0.8945238095238095\n",
            "85%, Top 1:0.6996235294117648 Top 5:0.8945411764705883\n",
            "86%, Top 1:0.6990930232558139 Top 5:0.8943488372093024\n",
            "87%, Top 1:0.6992643678160919 Top 5:0.8944137931034483\n",
            "88%, Top 1:0.6989318181818182 Top 5:0.89475\n",
            "89%, Top 1:0.699123595505618 Top 5:0.8945842696629214\n",
            "90%, Top 1:0.6990444444444445 Top 5:0.8947111111111111\n",
            "91%, Top 1:0.699076923076923 Top 5:0.8946813186813187\n",
            "92%, Top 1:0.6994130434782608 Top 5:0.895\n",
            "93%, Top 1:0.6992903225806452 Top 5:0.8946881720430108\n",
            "94%, Top 1:0.699404255319149 Top 5:0.8947021276595745\n",
            "95%, Top 1:0.6995578947368422 Top 5:0.8947578947368421\n",
            "96%, Top 1:0.6996875 Top 5:0.894875\n",
            "97%, Top 1:0.6997113402061855 Top 5:0.8949484536082474\n",
            "98%, Top 1:0.6999795918367347 Top 5:0.8951632653061224\n",
            "99%, Top 1:0.6996767676767677 Top 5:0.894969696969697\n"
          ]
        }
      ]
    },
    {
      "cell_type": "code",
      "source": [
        "accuracy = correct/it*100\n",
        "top_5_accuracy = top_5/it*100\n",
        "print('Top 1 Accuracy:'+str(accuracy)+'%')\n",
        "print('Top 5 Accuracy:'+str(top_5_accuracy)+'%')"
      ],
      "metadata": {
        "colab": {
          "base_uri": "https://localhost:8080/"
        },
        "id": "iipubysrtI0L",
        "outputId": "44002689-7186-4998-9357-a82430dfc405"
      },
      "execution_count": 4,
      "outputs": [
        {
          "output_type": "stream",
          "name": "stdout",
          "text": [
            "Top 1 Accuracy:69.976%\n",
            "Top 5 Accuracy:89.50200000000001%\n"
          ]
        }
      ]
    }
  ]
}